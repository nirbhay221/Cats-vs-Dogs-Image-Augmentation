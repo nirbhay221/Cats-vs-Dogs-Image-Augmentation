{
  "nbformat": 4,
  "nbformat_minor": 0,
  "metadata": {
    "colab": {
      "name": "Untitled45.ipynb",
      "provenance": [],
      "collapsed_sections": []
    },
    "kernelspec": {
      "name": "python3",
      "display_name": "Python 3"
    },
    "accelerator": "TPU"
  },
  "cells": [
    {
      "cell_type": "code",
      "metadata": {
        "id": "V8m_0pO1Fnfc",
        "outputId": "5b98401c-4f82-466e-ff90-a3c5dcfcbd17",
        "colab": {
          "base_uri": "https://localhost:8080/"
        }
      },
      "source": [
        "!wget --no-check-certificate \\\n",
        "    https://storage.googleapis.com/mledu-datasets/cats_and_dogs_filtered.zip \\\n",
        "    -O /tmp/cats_and_dogs_filtered.zip\n",
        "  \n",
        "import os\n",
        "import zipfile\n",
        "import tensorflow as tf\n",
        "from tensorflow.keras.optimizers import RMSprop\n",
        "from tensorflow.keras.preprocessing.image import ImageDataGenerator\n",
        "\n",
        "local_zip = '/tmp/cats_and_dogs_filtered.zip'\n",
        "zip_ref = zipfile.ZipFile(local_zip, 'r')\n",
        "zip_ref.extractall('/tmp')\n",
        "zip_ref.close()\n",
        "\n",
        "base_dir = '/tmp/cats_and_dogs_filtered'\n",
        "train_dir = os.path.join(base_dir, 'train')\n",
        "validation_dir = os.path.join(base_dir, 'validation')\n",
        "\n",
        "# Directory with our training cat pictures\n",
        "train_cats_dir = os.path.join(train_dir, 'cats')\n",
        "\n",
        "# Directory with our training dog pictures\n",
        "train_dogs_dir = os.path.join(train_dir, 'dogs')\n",
        "\n",
        "# Directory with our validation cat pictures\n",
        "validation_cats_dir = os.path.join(validation_dir, 'cats')\n",
        "\n",
        "# Directory with our validation dog pictures\n",
        "validation_dogs_dir = os.path.join(validation_dir, 'dogs')\n",
        "\n",
        "model = tf.keras.models.Sequential([\n",
        "    tf.keras.layers.Conv2D(32, (3,3), activation='relu', input_shape=(150, 150, 3)),\n",
        "    tf.keras.layers.MaxPooling2D(2, 2),\n",
        "    tf.keras.layers.Conv2D(64, (3,3), activation='relu'),\n",
        "    tf.keras.layers.MaxPooling2D(2,2),\n",
        "    tf.keras.layers.Conv2D(128, (3,3), activation='relu'),\n",
        "    tf.keras.layers.MaxPooling2D(2,2),\n",
        "    tf.keras.layers.Conv2D(128, (3,3), activation='relu'),\n",
        "    tf.keras.layers.MaxPooling2D(2,2),\n",
        "    tf.keras.layers.Flatten(),\n",
        "    tf.keras.layers.Dense(512, activation='relu'),\n",
        "    tf.keras.layers.Dense(1, activation='sigmoid')\n",
        "])\n",
        "\n",
        "model.compile(loss='binary_crossentropy',\n",
        "              optimizer=RMSprop(lr=1e-4),\n",
        "              metrics=['accuracy'])\n",
        "\n",
        "# All images will be rescaled by 1./255\n",
        "train_datagen = ImageDataGenerator(rescale=1./255)\n",
        "test_datagen = ImageDataGenerator(rescale=1./255)\n",
        "\n",
        "# Flow training images in batches of 20 using train_datagen generator\n",
        "train_generator = train_datagen.flow_from_directory(\n",
        "        train_dir,  # This is the source directory for training images\n",
        "        target_size=(150, 150),  # All images will be resized to 150x150\n",
        "        batch_size=20,\n",
        "        # Since we use binary_crossentropy loss, we need binary labels\n",
        "        class_mode='binary')\n",
        "\n",
        "# Flow validation images in batches of 20 using test_datagen generator\n",
        "validation_generator = test_datagen.flow_from_directory(\n",
        "        validation_dir,\n",
        "        target_size=(150, 150),\n",
        "        batch_size=20,\n",
        "        class_mode='binary')\n",
        "\n",
        "history = model.fit(\n",
        "      train_generator,\n",
        "      steps_per_epoch=100,  # 2000 images = batch_size * steps\n",
        "      epochs=10,\n",
        "      validation_data=validation_generator,\n",
        "      validation_steps=50,  # 1000 images = batch_size * steps\n",
        "      verbose=2)\n"
      ],
      "execution_count": null,
      "outputs": [
        {
          "output_type": "stream",
          "text": [
            "--2020-11-03 12:56:17--  https://storage.googleapis.com/mledu-datasets/cats_and_dogs_filtered.zip\n",
            "Resolving storage.googleapis.com (storage.googleapis.com)... 142.250.125.128, 74.125.129.128, 108.177.112.128, ...\n",
            "Connecting to storage.googleapis.com (storage.googleapis.com)|142.250.125.128|:443... connected.\n",
            "HTTP request sent, awaiting response... 200 OK\n",
            "Length: 68606236 (65M) [application/zip]\n",
            "Saving to: ‘/tmp/cats_and_dogs_filtered.zip’\n",
            "\n",
            "/tmp/cats_and_dogs_ 100%[===================>]  65.43M   156MB/s    in 0.4s    \n",
            "\n",
            "2020-11-03 12:56:17 (156 MB/s) - ‘/tmp/cats_and_dogs_filtered.zip’ saved [68606236/68606236]\n",
            "\n",
            "Found 2000 images belonging to 2 classes.\n",
            "Found 1000 images belonging to 2 classes.\n",
            "Epoch 1/10\n",
            "100/100 - 107s - loss: 0.6887 - accuracy: 0.5430 - val_loss: 0.6754 - val_accuracy: 0.5740\n",
            "Epoch 2/10\n",
            "100/100 - 102s - loss: 0.6485 - accuracy: 0.6150 - val_loss: 0.6460 - val_accuracy: 0.5700\n",
            "Epoch 3/10\n",
            "100/100 - 103s - loss: 0.5963 - accuracy: 0.6765 - val_loss: 0.6006 - val_accuracy: 0.6820\n",
            "Epoch 4/10\n",
            "100/100 - 102s - loss: 0.5540 - accuracy: 0.7160 - val_loss: 0.5647 - val_accuracy: 0.7010\n",
            "Epoch 5/10\n",
            "100/100 - 102s - loss: 0.5300 - accuracy: 0.7345 - val_loss: 0.5659 - val_accuracy: 0.7010\n",
            "Epoch 6/10\n",
            "100/100 - 103s - loss: 0.4933 - accuracy: 0.7635 - val_loss: 0.5417 - val_accuracy: 0.7250\n",
            "Epoch 7/10\n",
            "100/100 - 108s - loss: 0.4686 - accuracy: 0.7780 - val_loss: 0.5504 - val_accuracy: 0.7250\n",
            "Epoch 8/10\n",
            "100/100 - 103s - loss: 0.4406 - accuracy: 0.8035 - val_loss: 0.6816 - val_accuracy: 0.6620\n",
            "Epoch 9/10\n",
            "100/100 - 103s - loss: 0.4200 - accuracy: 0.8075 - val_loss: 0.5307 - val_accuracy: 0.7300\n",
            "Epoch 10/10\n",
            "100/100 - 103s - loss: 0.3858 - accuracy: 0.8310 - val_loss: 0.5608 - val_accuracy: 0.7240\n"
          ],
          "name": "stdout"
        }
      ]
    },
    {
      "cell_type": "code",
      "metadata": {
        "id": "MJswCJoreTHI",
        "outputId": "0e289ac2-406f-4f79-d97d-fc021084b453",
        "colab": {
          "base_uri": "https://localhost:8080/",
          "height": 545
        }
      },
      "source": [
        "import matplotlib.pyplot as plt\n",
        "acc = history.history['accuracy']\n",
        "val_acc = history.history['val_accuracy']\n",
        "loss = history.history['loss']\n",
        "val_loss = history.history['val_loss']\n",
        "\n",
        "epochs = range(len(acc))\n",
        "\n",
        "plt.plot(epochs, acc, 'bo', label='Training accuracy')\n",
        "plt.plot(epochs, val_acc, 'b', label='Validation accuracy')\n",
        "plt.title('Training and validation accuracy')\n",
        "\n",
        "plt.figure()\n",
        "\n",
        "plt.plot(epochs, loss, 'bo', label='Training Loss')\n",
        "plt.plot(epochs, val_loss, 'b', label='Validation Loss')\n",
        "plt.title('Training and validation loss')\n",
        "plt.legend()\n",
        "\n",
        "plt.show()"
      ],
      "execution_count": null,
      "outputs": [
        {
          "output_type": "display_data",
          "data": {
            "image/png": "[encoded data removed]",
            "text/plain": [
              "<Figure size 432x288 with 1 Axes>"
            ]
          },
          "metadata": {
            "tags": [],
            "needs_background": "light"
          }
        },
        {
          "output_type": "display_data",
          "data": {
            "image/png": "[encoded data removed]",
            "text/plain": [
              "<Figure size 432x288 with 1 Axes>"
            ]
          },
          "metadata": {
            "tags": [],
            "needs_background": "light"
          }
        }
      ]
    },
    {
      "cell_type": "code",
      "metadata": {
        "id": "PP_HH9y-QLPS",
        "outputId": "1b754d61-363b-4924-9d5b-b20154770d61",
        "colab": {
          "base_uri": "https://localhost:8080/"
        }
      },
      "source": [
        "!wget --no-check-certificate \\\n",
        "    https://storage.googleapis.com/mledu-datasets/cats_and_dogs_filtered.zip \\\n",
        "    -O /tmp/cats_and_dogs_filtered.zip"
      ],
      "execution_count": null,
      "outputs": [
        {
          "output_type": "stream",
          "text": [
            "--2020-11-03 13:25:34--  https://storage.googleapis.com/mledu-datasets/cats_and_dogs_filtered.zip\n",
            "Resolving storage.googleapis.com (storage.googleapis.com)... 209.85.200.128, 108.177.112.128, 74.125.124.128, ...\n",
            "Connecting to storage.googleapis.com (storage.googleapis.com)|209.85.200.128|:443... connected.\n",
            "HTTP request sent, awaiting response... 200 OK\n",
            "Length: 68606236 (65M) [application/zip]\n",
            "Saving to: ‘/tmp/cats_and_dogs_filtered.zip’\n",
            "\n",
            "/tmp/cats_and_dogs_ 100%[===================>]  65.43M  70.9MB/s    in 0.9s    \n",
            "\n",
            "2020-11-03 13:25:35 (70.9 MB/s) - ‘/tmp/cats_and_dogs_filtered.zip’ saved [68606236/68606236]\n",
            "\n"
          ],
          "name": "stdout"
        }
      ]
    },
    {
      "cell_type": "code",
      "metadata": {
        "id": "fvQKpE5VRLYL"
      },
      "source": [
        "import os \n",
        "import zipfile \n",
        "import tensorflow as tf\n",
        "import numpy as np \n",
        "import matplotlib.pyplot as plt\n",
        "from tensorflow.keras.preprocessing.image import ImageDataGenerator\n",
        "from tensorflow.keras.optimizers import RMSprop\n"
      ],
      "execution_count": null,
      "outputs": []
    },
    {
      "cell_type": "code",
      "metadata": {
        "id": "LpnMfMKZReQ2"
      },
      "source": [
        "local_dir =  '/tmp/cats_and_dogs_filtered.zip'\n",
        "zip_ref = zipfile.ZipFile(local_dir,'r')\n",
        "zip_ref.extractall()\n",
        "zip_ref.close()"
      ],
      "execution_count": null,
      "outputs": []
    },
    {
      "cell_type": "code",
      "metadata": {
        "id": "qmHBw9Z6R7oN"
      },
      "source": [
        "base_dir = '/tmp/cats_and_dogs_filtered'\n",
        "train_dir = os.path.join(base_dir,'train')\n",
        "validation_dir = os.path.join(base_dir,'validation')"
      ],
      "execution_count": null,
      "outputs": []
    },
    {
      "cell_type": "code",
      "metadata": {
        "id": "Rl6GceBZSfhV"
      },
      "source": [
        "train_cats_dir = os.path.join(train_dir,'cats')\n",
        "train_dogs_dir =os.path.join(train_dir,'dogs')\n",
        "validation_cats_dir = os.path.join(validation_dir,'cats')\n",
        "validation_dogs_dir = os.path.join(validation_dir,'dogs')"
      ],
      "execution_count": null,
      "outputs": []
    },
    {
      "cell_type": "code",
      "metadata": {
        "id": "cilhfg2-S1eQ"
      },
      "source": [
        "model  = tf.keras.models.Sequential([\n",
        "                                     tf.keras.layers.Conv2D(32,(3,3),activation = 'relu',input_shape= (150,150,3)),\n",
        "                                     tf.keras.layers.MaxPooling2D((2,2)),\n",
        "                                     tf.keras.layers.Conv2D(64,(3,3),activation = 'relu'),\n",
        "                                     tf.keras.layers.MaxPooling2D((2,2)),\n",
        "                                     tf.keras.layers.Conv2D(128,(3,3),activation = 'relu'),\n",
        "                                     tf.keras.layers.MaxPooling2D((2,2)),\n",
        "                                     tf.keras.layers.Conv2D(128,(3,3),activation = 'relu'),\n",
        "                                     tf.keras.layers.MaxPooling2D((2,2)),\n",
        "                                     tf.keras.layers.Flatten(),\n",
        "                                     tf.keras.layers.Dense(512,activation = 'relu'),\n",
        "                                     tf.keras.layers.Dense(1,activation='sigmoid')\n",
        "])"
      ],
      "execution_count": null,
      "outputs": []
    },
    {
      "cell_type": "code",
      "metadata": {
        "id": "MsX792DcUI4b",
        "outputId": "3542af83-cbbb-4fc1-efab-3e78a184bf1e",
        "colab": {
          "base_uri": "https://localhost:8080/"
        }
      },
      "source": [
        "model.compile(loss='binary_crossentropy',optimizer = RMSprop(lr = 1e-4) ,metrics = ['accuracy'])\n",
        "train_datagen = ImageDataGenerator(rescale=1.0/255.,rotation_range = 40,width_shift_range=0.2,height_shift_range=0.2,shear_range=0.2,zoom_range=0.2,horizontal_flip=True,fill_mode='nearest')\n",
        "test_datagen = ImageDataGenerator(rescale = 1.0/255.)\n",
        "train_data_generator = train_datagen.flow_from_directory(train_dir,target_size=(150,150),class_mode=  'binary',batch_size = 20)\n",
        "validation_data_generator= test_datagen.flow_from_directory(validation_dir,target_size = (150,150),class_mode = 'binary',batch_size = 20)\n",
        "history = model.fit(\n",
        "      train_generator,\n",
        "      steps_per_epoch=100,  # 2000 images = batch_size * steps\n",
        "      epochs=10,\n",
        "      validation_data=validation_generator,\n",
        "      validation_steps=50,  # 1000 images = batch_size * steps\n",
        "      verbose=2)"
      ],
      "execution_count": null,
      "outputs": [
        {
          "output_type": "stream",
          "text": [
            "Found 2000 images belonging to 2 classes.\n",
            "Found 1000 images belonging to 2 classes.\n",
            "Epoch 1/10\n",
            "100/100 - 105s - loss: 0.6836 - accuracy: 0.5495 - val_loss: 0.6685 - val_accuracy: 0.5700\n",
            "Epoch 2/10\n",
            "100/100 - 105s - loss: 0.6531 - accuracy: 0.6175 - val_loss: 0.6314 - val_accuracy: 0.6390\n",
            "Epoch 3/10\n",
            "100/100 - 102s - loss: 0.5990 - accuracy: 0.6780 - val_loss: 0.5855 - val_accuracy: 0.6980\n",
            "Epoch 4/10\n",
            "100/100 - 107s - loss: 0.5570 - accuracy: 0.7010 - val_loss: 0.5816 - val_accuracy: 0.6840\n",
            "Epoch 5/10\n",
            "100/100 - 103s - loss: 0.5243 - accuracy: 0.7360 - val_loss: 0.5877 - val_accuracy: 0.6840\n",
            "Epoch 6/10\n",
            "100/100 - 102s - loss: 0.4996 - accuracy: 0.7550 - val_loss: 0.5527 - val_accuracy: 0.7100\n",
            "Epoch 7/10\n",
            "100/100 - 102s - loss: 0.4745 - accuracy: 0.7740 - val_loss: 0.5690 - val_accuracy: 0.7090\n",
            "Epoch 8/10\n",
            "100/100 - 103s - loss: 0.4483 - accuracy: 0.7985 - val_loss: 0.5366 - val_accuracy: 0.7270\n",
            "Epoch 9/10\n",
            "100/100 - 102s - loss: 0.4241 - accuracy: 0.8030 - val_loss: 0.5481 - val_accuracy: 0.7300\n",
            "Epoch 10/10\n",
            "100/100 - 107s - loss: 0.3973 - accuracy: 0.8135 - val_loss: 0.6071 - val_accuracy: 0.6970\n"
          ],
          "name": "stdout"
        }
      ]
    },
    {
      "cell_type": "code",
      "metadata": {
        "id": "I8vD4pH2Vr9m",
        "outputId": "eadc2583-1280-4638-f1f5-cd31ca16444e",
        "colab": {
          "base_uri": "https://localhost:8080/",
          "height": 529
        }
      },
      "source": [
        "accuracy = history.history['accuracy']\n",
        "loss= history.history['loss']\n",
        "val_accuracy = history.history['val_accuracy']\n",
        "val_loss = history.history['val_loss']\n",
        "epochs = range(len(accuracy))\n",
        "plt.plot(epochs,accuracy,'bo',label = 'Training Accuracy')\n",
        "plt.plot(epochs,val_accuracy,'b',label = 'Validation Accuracy')\n",
        "plt.title('Training and Validation Accuracy :')\n",
        "plt.figure()\n",
        "plt.plot(epochs,loss,'bo',label = 'Training Loss')\n",
        "plt.plot(epochs,val_loss,'b',label = 'Validation Loss')\n",
        "plt.legend()\n",
        "plt.show()"
      ],
      "execution_count": null,
      "outputs": [
        {
          "output_type": "display_data",
          "data": {
            "image/png": "[encoded data removed]",
            "text/plain": [
              "<Figure size 432x288 with 1 Axes>"
            ]
          },
          "metadata": {
            "tags": [],
            "needs_background": "light"
          }
        },
        {
          "output_type": "display_data",
          "data": {
            "image/png": "[encoded data removed]",
            "text/plain": [
              "<Figure size 432x288 with 1 Axes>"
            ]
          },
          "metadata": {
            "tags": [],
            "needs_background": "light"
          }
        }
      ]
    },
    {
      "cell_type": "code",
      "metadata": {
        "id": "ggtxkkgiaIA7"
      },
      "source": [
        ""
      ],
      "execution_count": null,
      "outputs": []
    }
  ]
}